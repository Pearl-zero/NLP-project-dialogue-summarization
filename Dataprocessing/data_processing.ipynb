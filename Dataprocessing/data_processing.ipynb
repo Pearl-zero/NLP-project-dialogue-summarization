{
 "cells": [
  {
   "cell_type": "markdown",
   "metadata": {},
   "source": [
    "##### 0. 스페셜 토큰 처리?"
   ]
  },
  {
   "cell_type": "code",
   "execution_count": 1,
   "metadata": {},
   "outputs": [],
   "source": [
    "# 분할 x 단어\n",
    "# not_tokenized = ['#Address#', '#CarNumber#', '#CardNumber#', '#DateOfBirth#', '#Email#', \n",
    "#                 '#PassportNumber#', '#Person#', '#Person1#', '#Person2#', '#Person3#', \n",
    "#                 '#Person4#', '#Person5#', '#Person6#', '#Person7#', '#PhoneNumber#', '#SSN#']"
   ]
  },
  {
   "cell_type": "markdown",
   "metadata": {},
   "source": [
    "##### 1. 발화자 / 대화 분리해서 학습"
   ]
  },
  {
   "cell_type": "code",
   "execution_count": 2,
   "metadata": {},
   "outputs": [],
   "source": [
    "import pandas as pd\n",
    "from koeda import EasyDataAugmentation\n",
    "import re"
   ]
  },
  {
   "cell_type": "code",
   "execution_count": 6,
   "metadata": {},
   "outputs": [],
   "source": [
    "# EDA 적용 함수\n",
    "def augment_text_data_with_EDA(text, repetition=1):\n",
    "    \"\"\"입력된 문장에 대해 EDA를 통해 데이터 증강\"\"\"\n",
    "    eda = EasyDataAugmentation(morpheme_analyzer=\"Okt\")\n",
    "    return eda(text, p=(0.3, 0.3, 0.3, 0.3), repetition=repetition)\n",
    "\n",
    "# 화자와 대화 분리 함수\n",
    "def split_speaker_and_text(dialogue):\n",
    "    \"\"\"대화 내용을 화자 태그와 분리\"\"\"\n",
    "    pattern = r'(#Person\\d+#): (.+)'\n",
    "    lines = dialogue.split('\\n')\n",
    "    return [(match.group(1), match.group(2)) for line in lines if (match := re.match(pattern, line))]\n",
    "\n",
    "# 화자와 대화 결합 함수\n",
    "def join_speaker_and_text(speaker_text_pairs):\n",
    "    \"\"\"화자 태그와 대화 내용을 결합\"\"\"\n",
    "    return '\\n'.join([f'{speaker}: {text}' for speaker, text in speaker_text_pairs])"
   ]
  },
  {
   "cell_type": "code",
   "execution_count": 7,
   "metadata": {},
   "outputs": [
    {
     "ename": "JVMNotFoundException",
     "evalue": "No JVM shared library file (libjvm.so) found. Try setting up the JAVA_HOME environment variable properly.",
     "output_type": "error",
     "traceback": [
      "\u001b[0;31m---------------------------------------------------------------------------\u001b[0m",
      "\u001b[0;31mJVMNotFoundException\u001b[0m                      Traceback (most recent call last)",
      "Cell \u001b[0;32mIn[7], line 16\u001b[0m\n\u001b[1;32m     13\u001b[0m speaker_text_pairs \u001b[38;5;241m=\u001b[39m split_speaker_and_text(original_text)\n\u001b[1;32m     15\u001b[0m \u001b[38;5;66;03m# 대화 내용에 EDA 적용\u001b[39;00m\n\u001b[0;32m---> 16\u001b[0m augmented_text_lists \u001b[38;5;241m=\u001b[39m [\n\u001b[1;32m     17\u001b[0m     augment_text_data_with_EDA(text, repetition\u001b[38;5;241m=\u001b[39m\u001b[38;5;241m3\u001b[39m) \u001b[38;5;28;01mfor\u001b[39;00m _, text \u001b[38;5;129;01min\u001b[39;00m speaker_text_pairs\n\u001b[1;32m     18\u001b[0m ]\n\u001b[1;32m     20\u001b[0m \u001b[38;5;66;03m# EDA 결과와 화자 태그 결합\u001b[39;00m\n\u001b[1;32m     21\u001b[0m \u001b[38;5;28;01mfor\u001b[39;00m augmented_texts \u001b[38;5;129;01min\u001b[39;00m \u001b[38;5;28mzip\u001b[39m(\u001b[38;5;241m*\u001b[39maugmented_text_lists):\n",
      "Cell \u001b[0;32mIn[7], line 17\u001b[0m, in \u001b[0;36m<listcomp>\u001b[0;34m(.0)\u001b[0m\n\u001b[1;32m     13\u001b[0m speaker_text_pairs \u001b[38;5;241m=\u001b[39m split_speaker_and_text(original_text)\n\u001b[1;32m     15\u001b[0m \u001b[38;5;66;03m# 대화 내용에 EDA 적용\u001b[39;00m\n\u001b[1;32m     16\u001b[0m augmented_text_lists \u001b[38;5;241m=\u001b[39m [\n\u001b[0;32m---> 17\u001b[0m     \u001b[43maugment_text_data_with_EDA\u001b[49m\u001b[43m(\u001b[49m\u001b[43mtext\u001b[49m\u001b[43m,\u001b[49m\u001b[43m \u001b[49m\u001b[43mrepetition\u001b[49m\u001b[38;5;241;43m=\u001b[39;49m\u001b[38;5;241;43m3\u001b[39;49m\u001b[43m)\u001b[49m \u001b[38;5;28;01mfor\u001b[39;00m _, text \u001b[38;5;129;01min\u001b[39;00m speaker_text_pairs\n\u001b[1;32m     18\u001b[0m ]\n\u001b[1;32m     20\u001b[0m \u001b[38;5;66;03m# EDA 결과와 화자 태그 결합\u001b[39;00m\n\u001b[1;32m     21\u001b[0m \u001b[38;5;28;01mfor\u001b[39;00m augmented_texts \u001b[38;5;129;01min\u001b[39;00m \u001b[38;5;28mzip\u001b[39m(\u001b[38;5;241m*\u001b[39maugmented_text_lists):\n",
      "Cell \u001b[0;32mIn[6], line 4\u001b[0m, in \u001b[0;36maugment_text_data_with_EDA\u001b[0;34m(text, repetition)\u001b[0m\n\u001b[1;32m      2\u001b[0m \u001b[38;5;28;01mdef\u001b[39;00m \u001b[38;5;21maugment_text_data_with_EDA\u001b[39m(text, repetition\u001b[38;5;241m=\u001b[39m\u001b[38;5;241m1\u001b[39m):\n\u001b[1;32m      3\u001b[0m \u001b[38;5;250m    \u001b[39m\u001b[38;5;124;03m\"\"\"입력된 문장에 대해 EDA를 통해 데이터 증강\"\"\"\u001b[39;00m\n\u001b[0;32m----> 4\u001b[0m     eda \u001b[38;5;241m=\u001b[39m \u001b[43mEasyDataAugmentation\u001b[49m\u001b[43m(\u001b[49m\u001b[43mmorpheme_analyzer\u001b[49m\u001b[38;5;241;43m=\u001b[39;49m\u001b[38;5;124;43m\"\u001b[39;49m\u001b[38;5;124;43mOkt\u001b[39;49m\u001b[38;5;124;43m\"\u001b[39;49m\u001b[43m)\u001b[49m\n\u001b[1;32m      5\u001b[0m     \u001b[38;5;28;01mreturn\u001b[39;00m eda(text, p\u001b[38;5;241m=\u001b[39m(\u001b[38;5;241m0.3\u001b[39m, \u001b[38;5;241m0.3\u001b[39m, \u001b[38;5;241m0.3\u001b[39m, \u001b[38;5;241m0.3\u001b[39m), repetition\u001b[38;5;241m=\u001b[39mrepetition)\n",
      "File \u001b[0;32m/opt/conda/lib/python3.10/site-packages/koeda/eda.py:22\u001b[0m, in \u001b[0;36mEasyDataAugmentation.__init__\u001b[0;34m(self, morpheme_analyzer, alpha_sr, alpha_ri, alpha_rs, prob_rd)\u001b[0m\n\u001b[1;32m     20\u001b[0m     \u001b[38;5;28mself\u001b[39m\u001b[38;5;241m.\u001b[39mmorpheme_analyzer \u001b[38;5;241m=\u001b[39m Okt()\n\u001b[1;32m     21\u001b[0m \u001b[38;5;28;01melif\u001b[39;00m morpheme_analyzer \u001b[38;5;129;01min\u001b[39;00m [\u001b[38;5;124m\"\u001b[39m\u001b[38;5;124mOkt\u001b[39m\u001b[38;5;124m\"\u001b[39m, \u001b[38;5;124m\"\u001b[39m\u001b[38;5;124mKkma\u001b[39m\u001b[38;5;124m\"\u001b[39m, \u001b[38;5;124m\"\u001b[39m\u001b[38;5;124mKomoran\u001b[39m\u001b[38;5;124m\"\u001b[39m, \u001b[38;5;124m\"\u001b[39m\u001b[38;5;124mMecab\u001b[39m\u001b[38;5;124m\"\u001b[39m, \u001b[38;5;124m\"\u001b[39m\u001b[38;5;124mHannanum\u001b[39m\u001b[38;5;124m\"\u001b[39m]:\n\u001b[0;32m---> 22\u001b[0m     \u001b[38;5;28mself\u001b[39m\u001b[38;5;241m.\u001b[39mmorpheme_analyzer \u001b[38;5;241m=\u001b[39m \u001b[38;5;28;43meval\u001b[39;49m\u001b[43m(\u001b[49m\u001b[43mmorpheme_analyzer\u001b[49m\u001b[43m)\u001b[49m\u001b[43m(\u001b[49m\u001b[43m)\u001b[49m\n\u001b[1;32m     23\u001b[0m \u001b[38;5;28;01melif\u001b[39;00m \u001b[38;5;28mhasattr\u001b[39m(morpheme_analyzer, \u001b[38;5;124m\"\u001b[39m\u001b[38;5;124mmorphs\u001b[39m\u001b[38;5;124m\"\u001b[39m):\n\u001b[1;32m     24\u001b[0m     \u001b[38;5;28mself\u001b[39m\u001b[38;5;241m.\u001b[39mmorpheme_analyzer \u001b[38;5;241m=\u001b[39m morpheme_analyzer\n",
      "File \u001b[0;32m/opt/conda/lib/python3.10/site-packages/konlpy/tag/_okt.py:51\u001b[0m, in \u001b[0;36mOkt.__init__\u001b[0;34m(self, jvmpath, max_heap_size)\u001b[0m\n\u001b[1;32m     49\u001b[0m \u001b[38;5;28;01mdef\u001b[39;00m \u001b[38;5;21m__init__\u001b[39m(\u001b[38;5;28mself\u001b[39m, jvmpath\u001b[38;5;241m=\u001b[39m\u001b[38;5;28;01mNone\u001b[39;00m, max_heap_size\u001b[38;5;241m=\u001b[39m\u001b[38;5;241m1024\u001b[39m):\n\u001b[1;32m     50\u001b[0m     \u001b[38;5;28;01mif\u001b[39;00m \u001b[38;5;129;01mnot\u001b[39;00m jpype\u001b[38;5;241m.\u001b[39misJVMStarted():\n\u001b[0;32m---> 51\u001b[0m         \u001b[43mjvm\u001b[49m\u001b[38;5;241;43m.\u001b[39;49m\u001b[43minit_jvm\u001b[49m\u001b[43m(\u001b[49m\u001b[43mjvmpath\u001b[49m\u001b[43m,\u001b[49m\u001b[43m \u001b[49m\u001b[43mmax_heap_size\u001b[49m\u001b[43m)\u001b[49m\n\u001b[1;32m     53\u001b[0m     oktJavaPackage \u001b[38;5;241m=\u001b[39m jpype\u001b[38;5;241m.\u001b[39mJPackage(\u001b[38;5;124m'\u001b[39m\u001b[38;5;124mkr.lucypark.okt\u001b[39m\u001b[38;5;124m'\u001b[39m)\n\u001b[1;32m     54\u001b[0m     OktInterfaceJavaClass \u001b[38;5;241m=\u001b[39m oktJavaPackage\u001b[38;5;241m.\u001b[39mOktInterface\n",
      "File \u001b[0;32m/opt/conda/lib/python3.10/site-packages/konlpy/jvm.py:55\u001b[0m, in \u001b[0;36minit_jvm\u001b[0;34m(jvmpath, max_heap_size)\u001b[0m\n\u001b[1;32m     52\u001b[0m args \u001b[38;5;241m=\u001b[39m [javadir, os\u001b[38;5;241m.\u001b[39msep]\n\u001b[1;32m     53\u001b[0m classpath \u001b[38;5;241m=\u001b[39m [f\u001b[38;5;241m.\u001b[39mformat(\u001b[38;5;241m*\u001b[39margs) \u001b[38;5;28;01mfor\u001b[39;00m f \u001b[38;5;129;01min\u001b[39;00m folder_suffix]\n\u001b[0;32m---> 55\u001b[0m jvmpath \u001b[38;5;241m=\u001b[39m jvmpath \u001b[38;5;129;01mor\u001b[39;00m \u001b[43mjpype\u001b[49m\u001b[38;5;241;43m.\u001b[39;49m\u001b[43mgetDefaultJVMPath\u001b[49m\u001b[43m(\u001b[49m\u001b[43m)\u001b[49m\n\u001b[1;32m     57\u001b[0m \u001b[38;5;66;03m# NOTE: Temporary patch for Issue #76. Erase when possible.\u001b[39;00m\n\u001b[1;32m     58\u001b[0m \u001b[38;5;28;01mif\u001b[39;00m sys\u001b[38;5;241m.\u001b[39mplatform \u001b[38;5;241m==\u001b[39m \u001b[38;5;124m'\u001b[39m\u001b[38;5;124mdarwin\u001b[39m\u001b[38;5;124m'\u001b[39m\\\n\u001b[1;32m     59\u001b[0m         \u001b[38;5;129;01mand\u001b[39;00m jvmpath\u001b[38;5;241m.\u001b[39mfind(\u001b[38;5;124m'\u001b[39m\u001b[38;5;124m1.8.0\u001b[39m\u001b[38;5;124m'\u001b[39m) \u001b[38;5;241m>\u001b[39m \u001b[38;5;241m0\u001b[39m\\\n\u001b[1;32m     60\u001b[0m         \u001b[38;5;129;01mand\u001b[39;00m jvmpath\u001b[38;5;241m.\u001b[39mendswith(\u001b[38;5;124m'\u001b[39m\u001b[38;5;124mlibjvm.dylib\u001b[39m\u001b[38;5;124m'\u001b[39m):\n",
      "File \u001b[0;32m/opt/conda/lib/python3.10/site-packages/jpype/_jvmfinder.py:70\u001b[0m, in \u001b[0;36mgetDefaultJVMPath\u001b[0;34m()\u001b[0m\n\u001b[1;32m     68\u001b[0m \u001b[38;5;28;01melse\u001b[39;00m:\n\u001b[1;32m     69\u001b[0m     finder \u001b[38;5;241m=\u001b[39m LinuxJVMFinder()\n\u001b[0;32m---> 70\u001b[0m \u001b[38;5;28;01mreturn\u001b[39;00m \u001b[43mfinder\u001b[49m\u001b[38;5;241;43m.\u001b[39;49m\u001b[43mget_jvm_path\u001b[49m\u001b[43m(\u001b[49m\u001b[43m)\u001b[49m\n",
      "File \u001b[0;32m/opt/conda/lib/python3.10/site-packages/jpype/_jvmfinder.py:204\u001b[0m, in \u001b[0;36mJVMFinder.get_jvm_path\u001b[0;34m(self)\u001b[0m\n\u001b[1;32m    202\u001b[0m \u001b[38;5;28;01mif\u001b[39;00m jvm_notsupport_ext \u001b[38;5;129;01mis\u001b[39;00m \u001b[38;5;129;01mnot\u001b[39;00m \u001b[38;5;28;01mNone\u001b[39;00m:\n\u001b[1;32m    203\u001b[0m     \u001b[38;5;28;01mraise\u001b[39;00m jvm_notsupport_ext\n\u001b[0;32m--> 204\u001b[0m \u001b[38;5;28;01mraise\u001b[39;00m JVMNotFoundException(\u001b[38;5;124m\"\u001b[39m\u001b[38;5;124mNo JVM shared library file (\u001b[39m\u001b[38;5;132;01m{0}\u001b[39;00m\u001b[38;5;124m) \u001b[39m\u001b[38;5;124m\"\u001b[39m\n\u001b[1;32m    205\u001b[0m                            \u001b[38;5;124m\"\u001b[39m\u001b[38;5;124mfound. Try setting up the JAVA_HOME \u001b[39m\u001b[38;5;124m\"\u001b[39m\n\u001b[1;32m    206\u001b[0m                            \u001b[38;5;124m\"\u001b[39m\u001b[38;5;124menvironment variable properly.\u001b[39m\u001b[38;5;124m\"\u001b[39m\n\u001b[1;32m    207\u001b[0m                            \u001b[38;5;241m.\u001b[39mformat(\u001b[38;5;28mself\u001b[39m\u001b[38;5;241m.\u001b[39m_libfile))\n",
      "\u001b[0;31mJVMNotFoundException\u001b[0m: No JVM shared library file (libjvm.so) found. Try setting up the JAVA_HOME environment variable properly."
     ]
    }
   ],
   "source": [
    "# 데이터 로드\n",
    "df = pd.read_csv('/root/NLP/data/train.csv')\n",
    "df_filtered = df[['fname', 'dialogue', 'summary', 'topic']]\n",
    "\n",
    "# 증강 데이터를 저장할 리스트\n",
    "augmented_rows = []\n",
    "\n",
    "# EDA 적용 및 데이터 증강\n",
    "for index, row in df_filtered.iterrows():\n",
    "    original_text = row['dialogue']\n",
    "\n",
    "    # 화자 태그와 대화 내용 분리\n",
    "    speaker_text_pairs = split_speaker_and_text(original_text)\n",
    "\n",
    "    # 대화 내용에 EDA 적용\n",
    "    augmented_text_lists = [\n",
    "        augment_text_data_with_EDA(text, repetition=3) for _, text in speaker_text_pairs\n",
    "    ]\n",
    "\n",
    "    # EDA 결과와 화자 태그 결합\n",
    "    for augmented_texts in zip(*augmented_text_lists):\n",
    "        new_speaker_text_pairs = [\n",
    "            (speaker_text_pairs[i][0], augmented_text) \n",
    "            for i, augmented_text in enumerate(augmented_texts)\n",
    "        ]\n",
    "        augmented_dialogue = join_speaker_and_text(new_speaker_text_pairs)\n",
    "\n",
    "        # 증강 데이터를 새로운 행으로 추가\n",
    "        augmented_rows.append({\n",
    "            'fname': row['fname'],\n",
    "            'dialogue': augmented_dialogue,\n",
    "            'summary': row['summary'],\n",
    "            'topic': row['topic']\n",
    "        })\n",
    "\n",
    "    # 진행 상황 출력\n",
    "    if index % 100 == 0:\n",
    "        print(f\"Processed {index + 1} rows out of {len(df_filtered)}\")\n",
    "\n",
    "# 증강 데이터를 DataFrame으로 변환\n",
    "augmented_data = pd.DataFrame(augmented_rows)\n",
    "\n",
    "# 결과 저장\n",
    "augmented_data.to_csv('/root/NLP/data/aug_train.csv', index=False)"
   ]
  },
  {
   "cell_type": "markdown",
   "metadata": {},
   "source": [
    "##### 2. df + augmented_data concat하기"
   ]
  },
  {
   "cell_type": "markdown",
   "metadata": {},
   "source": [
    "##### 3. 인덱스 reset / fname 열 바꾸기(train_0 ~ train?)"
   ]
  },
  {
   "cell_type": "markdown",
   "metadata": {},
   "source": []
  }
 ],
 "metadata": {
  "kernelspec": {
   "display_name": "base",
   "language": "python",
   "name": "python3"
  },
  "language_info": {
   "codemirror_mode": {
    "name": "ipython",
    "version": 3
   },
   "file_extension": ".py",
   "mimetype": "text/x-python",
   "name": "python",
   "nbconvert_exporter": "python",
   "pygments_lexer": "ipython3",
   "version": "3.10.13"
  }
 },
 "nbformat": 4,
 "nbformat_minor": 2
}
