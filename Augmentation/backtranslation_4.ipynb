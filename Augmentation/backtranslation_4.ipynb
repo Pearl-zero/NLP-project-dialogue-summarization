{
 "cells": [
  {
   "cell_type": "code",
   "execution_count": 1,
   "metadata": {},
   "outputs": [],
   "source": [
    "import requests\n",
    "import re\n",
    "import pandas as pd\n",
    "from tqdm import tqdm\n",
    "from concurrent.futures import ThreadPoolExecutor\n",
    "import deepl\n",
    "import time\n",
    "import random\n",
    "import os\n",
    "from datetime import datetime\n",
    "import multiprocessing as mp\n",
    "from functools import partial"
   ]
  },
  {
   "cell_type": "code",
   "execution_count": 2,
   "metadata": {},
   "outputs": [],
   "source": [
    "def preserve_speakers_batch(texts):\n",
    "    \"\"\"배치로 화자 태그 처리\"\"\"\n",
    "    preserved_texts = []\n",
    "    placeholder_maps = []\n",
    "    \n",
    "    for text in texts:\n",
    "        if pd.isna(text):\n",
    "            preserved_texts.append(\"\")\n",
    "            placeholder_maps.append({})\n",
    "            continue\n",
    "            \n",
    "        speakers = re.findall(r'#Person\\d+#', str(text))\n",
    "        preserved_text = str(text)\n",
    "        placeholder_map = {}\n",
    "        \n",
    "        for i, speaker in enumerate(speakers):\n",
    "            placeholder = f\"SPEAKER_{i}\"\n",
    "            preserved_text = preserved_text.replace(speaker, placeholder)\n",
    "            placeholder_map[placeholder] = speaker\n",
    "            \n",
    "        preserved_texts.append(preserved_text)\n",
    "        placeholder_maps.append(placeholder_map)\n",
    "        \n",
    "    return preserved_texts, placeholder_maps\n",
    "\n",
    "def restore_speakers_batch(texts, placeholder_maps):\n",
    "    \"\"\"배치로 화자 태그 복원\"\"\"\n",
    "    restored_texts = []\n",
    "    \n",
    "    for text, placeholder_map in zip(texts, placeholder_maps):\n",
    "        if not text or not placeholder_map:\n",
    "            restored_texts.append(text)\n",
    "            continue\n",
    "            \n",
    "        restored_text = str(text)\n",
    "        for placeholder, speaker in placeholder_map.items():\n",
    "            restored_text = restored_text.replace(placeholder, speaker)\n",
    "        restored_texts.append(restored_text)\n",
    "        \n",
    "    return restored_texts\n",
    "\n",
    "def backtranslate_batch(texts, translator):\n",
    "    \"\"\"배치 단위로 텍스트 번역\"\"\"\n",
    "    if not texts:\n",
    "        return texts\n",
    "        \n",
    "    try:\n",
    "        # 한국어 -> 영어\n",
    "        en_results = translator.translate_text(\n",
    "            texts,\n",
    "            source_lang=\"KO\",\n",
    "            target_lang=\"EN-US\"\n",
    "        )\n",
    "        en_texts = [result.text for result in en_results]\n",
    "        time.sleep(0.1)  # API 제한 방지\n",
    "        \n",
    "        # 영어 -> 한국어\n",
    "        ko_results = translator.translate_text(\n",
    "            en_texts,\n",
    "            source_lang=\"EN\",\n",
    "            target_lang=\"KO\"\n",
    "        )\n",
    "        \n",
    "        return [result.text for result in ko_results]\n",
    "        \n",
    "    except Exception as e:\n",
    "        print(f\"Translation error: {str(e)}\")\n",
    "        return texts\n",
    "\n",
    "def process_chunk(chunk, chunk_id, api_key):\n",
    "    \"\"\"청크 단위로 데이터 처리\"\"\"\n",
    "    translator = deepl.Translator(api_key)\n",
    "    results = []\n",
    "    \n",
    "    BATCH_SIZE = 25  # DeepL API의 배치 제한을 고려한 크기\n",
    "    \n",
    "    for idx in range(0, len(chunk), BATCH_SIZE):\n",
    "        batch = chunk[idx:idx + BATCH_SIZE]\n",
    "        \n",
    "        # 화자 태그 보존\n",
    "        preserved_texts, placeholder_maps = preserve_speakers_batch(batch)\n",
    "        \n",
    "        # 배치 번역\n",
    "        translated_texts = backtranslate_batch(preserved_texts, translator)\n",
    "        \n",
    "        # 화자 태그 복원\n",
    "        final_texts = restore_speakers_batch(translated_texts, placeholder_maps)\n",
    "        \n",
    "        results.extend(final_texts)\n",
    "        time.sleep(0.1)  # API 호출 제한 방지\n",
    "        \n",
    "    return results\n",
    "\n",
    "def process_summaries(original_df, save_path, api_key):\n",
    "    print(f\"Translation started: {datetime.now().strftime('%H:%M:%S')}\")\n",
    "    \n",
    "    # 결과 데이터프레임 준비\n",
    "    result_df = original_df.copy()\n",
    "    \n",
    "    # 멀티프로세싱 설정\n",
    "    num_cores = mp.cpu_count() - 1\n",
    "    chunk_size = max(1, len(original_df) // num_cores)\n",
    "    chunks = [original_df['summary'].tolist()[i:i + chunk_size] \n",
    "             for i in range(0, len(original_df), chunk_size)]\n",
    "    \n",
    "    with mp.Pool(num_cores) as pool:\n",
    "        args = [(chunk, i, api_key) for i, chunk in enumerate(chunks)]\n",
    "        \n",
    "        results = []\n",
    "        with tqdm(total=len(chunks), desc=\"Processing chunks\") as pbar:\n",
    "            for chunk_result in pool.starmap(process_chunk, args):\n",
    "                results.extend(chunk_result)\n",
    "                pbar.update(1)\n",
    "                \n",
    "                # 중간 저장\n",
    "                if len(results) % 1000 == 0:\n",
    "                    temp_df = original_df.copy()\n",
    "                    temp_df['summary'] = temp_df['summary'].copy()\n",
    "                    temp_df.loc[:len(results)-1, 'summary'] = results[:len(results)]\n",
    "                    temp_df.to_csv(f\"{save_path}_temp.csv\", index=False)\n",
    "                    print(f\"Saved temporary results: {len(results)}/{len(original_df)} processed\")\n",
    "    \n",
    "    # 최종 데이터프레임 생성\n",
    "    final_df = pd.DataFrame({\n",
    "        'fname': original_df['fname'],\n",
    "        'dialogue': original_df['dialogue'],\n",
    "        'summary': results,  # 역번역된 summary\n",
    "        'topic': original_df['topic']\n",
    "    })\n",
    "    \n",
    "    # 최종 결과 저장\n",
    "    final_df.to_csv(save_path, index=False)\n",
    "    \n",
    "    print(f\"Completed: {datetime.now().strftime('%H:%M:%S')}\")\n",
    "    print(f\"Saved to: {save_path}\")\n",
    "    \n",
    "    # 샘플 결과 출력\n",
    "    print(\"\\nSample results (first 3 rows):\")\n",
    "    for i in range(min(3, len(original_df))):\n",
    "        print(f\"\\nOriginal: {original_df['summary'].iloc[i]}\")\n",
    "        print(f\"Backtranslated: {results[i]}\")\n",
    "    \n",
    "    return final_df"
   ]
  },
  {
   "cell_type": "code",
   "execution_count": 3,
   "metadata": {},
   "outputs": [
    {
     "name": "stdout",
     "output_type": "stream",
     "text": [
      "Translation started: 23:41:58\n"
     ]
    },
    {
     "name": "stderr",
     "output_type": "stream",
     "text": [
      "Processing chunks:   0%|          | 0/48 [00:00<?, ?it/s]"
     ]
    },
    {
     "name": "stderr",
     "output_type": "stream",
     "text": [
      "Processing chunks:  19%|█▉        | 9/48 [01:49<05:42,  8.79s/it]   "
     ]
    },
    {
     "name": "stdout",
     "output_type": "stream",
     "text": [
      "Saved temporary results: 5000/29412 processed\n"
     ]
    },
    {
     "name": "stderr",
     "output_type": "stream",
     "text": [
      "Processing chunks:  35%|███▌      | 17/48 [01:49<01:58,  3.82s/it]"
     ]
    },
    {
     "name": "stdout",
     "output_type": "stream",
     "text": [
      "Saved temporary results: 10000/29412 processed\n"
     ]
    },
    {
     "name": "stderr",
     "output_type": "stream",
     "text": [
      "Processing chunks:  52%|█████▏    | 25/48 [01:49<00:49,  2.13s/it]"
     ]
    },
    {
     "name": "stdout",
     "output_type": "stream",
     "text": [
      "Saved temporary results: 15000/29412 processed\n"
     ]
    },
    {
     "name": "stderr",
     "output_type": "stream",
     "text": [
      "Processing chunks:  69%|██████▉   | 33/48 [01:50<00:19,  1.32s/it]"
     ]
    },
    {
     "name": "stdout",
     "output_type": "stream",
     "text": [
      "Saved temporary results: 20000/29412 processed\n"
     ]
    },
    {
     "name": "stderr",
     "output_type": "stream",
     "text": [
      "Processing chunks: 100%|██████████| 48/48 [01:50<00:00,  2.30s/it]"
     ]
    },
    {
     "name": "stdout",
     "output_type": "stream",
     "text": [
      "Saved temporary results: 25000/29412 processed\n"
     ]
    },
    {
     "name": "stderr",
     "output_type": "stream",
     "text": [
      "\n"
     ]
    },
    {
     "name": "stdout",
     "output_type": "stream",
     "text": [
      "Completed: 23:43:49\n",
      "Saved to: /root/NLP/data/final/sum_aug_bt_20241127_234157.csv\n",
      "\n",
      "Sample results (first 3 rows):\n",
      "\n",
      "Original: 스미스씨가 건강검진을 받고 있고, 호킨스 의사는 매년 건강검진을 받는 것을 권장합니다. 호킨스 의사는 스미스씨가 담배를 끊는 데 도움이 될 수 있는 수업과 약물에 대한 정보를 제공할 것입니다.\n",
      "Backtranslated: 스미스 씨는 검진을 받고 있으며, 호킨스 박사는 매년 검진을 받을 것을 권장합니다. 호킨스 박사는 스미스 씨의 금연에 도움이 될 수 있는 수업과 약물에 대한 정보를 제공할 것입니다.\n",
      "\n",
      "Original: 파커 부인이 리키를 데리고 백신 접종을 하러 갔다. 피터스 박사는 기록을 확인한 후 리키에게 백신을 접종했다.\n",
      "Backtranslated: 파커 부인은 리키를 데리고 백신을 맞으러 갔습니다. 피터스 박사는 기록을 확인하고 리키에게 백신을 투여했습니다.\n",
      "\n",
      "Original: #Person1#은 열쇠 한 묶음을 찾고 있고, 그것을 찾기 위해 #Person2#에게 도움을 청하고 있습니다.\n",
      "Backtranslated: #Person1#이 키 세트를 찾고 있으며 #Person2#에게 키 찾기를 도와달라고 요청합니다.\n"
     ]
    }
   ],
   "source": [
    "if __name__ == \"__main__\":\n",
    "    # DeepL API 키 설정\n",
    "    API_KEY = \"3e69e331-9c9f-4cf5-811c-8fcd910e36da\"  # 여기에 API 키를 입력하세요\n",
    "    \n",
    "    # 저장 경로 설정\n",
    "    save_dir = '/root/NLP/data/final/'\n",
    "    os.makedirs(os.path.dirname(save_dir), exist_ok=True)\n",
    "    \n",
    "    # 타임스탬프를 포함한 파일명 생성\n",
    "    timestamp = datetime.now().strftime('%Y%m%d_%H%M%S')\n",
    "    save_path = os.path.join(os.path.dirname(save_dir), \n",
    "                            f'sum_aug_bt_{timestamp}.csv')\n",
    "    \n",
    "    # CSV 파일 읽기\n",
    "    df = pd.read_csv('/root/NLP/data/final/aug_bt_train.csv')\n",
    "    \n",
    "    # 처리 시작\n",
    "    final_df = process_summaries(df, save_path, API_KEY)"
   ]
  },
  {
   "cell_type": "code",
   "execution_count": 9,
   "metadata": {},
   "outputs": [],
   "source": [
    "dt_df = pd.read_csv(\"/root/NLP/data/dt_train.csv/backtranslated_20241127_132634.csv\")"
   ]
  },
  {
   "cell_type": "code",
   "execution_count": 8,
   "metadata": {},
   "outputs": [],
   "source": [
    "all_df = pd.concat([df, dt_df],axis=0)"
   ]
  },
  {
   "cell_type": "code",
   "execution_count": 9,
   "metadata": {},
   "outputs": [
    {
     "data": {
      "text/html": [
       "<div>\n",
       "<style scoped>\n",
       "    .dataframe tbody tr th:only-of-type {\n",
       "        vertical-align: middle;\n",
       "    }\n",
       "\n",
       "    .dataframe tbody tr th {\n",
       "        vertical-align: top;\n",
       "    }\n",
       "\n",
       "    .dataframe thead th {\n",
       "        text-align: right;\n",
       "    }\n",
       "</style>\n",
       "<table border=\"1\" class=\"dataframe\">\n",
       "  <thead>\n",
       "    <tr style=\"text-align: right;\">\n",
       "      <th></th>\n",
       "      <th>fname</th>\n",
       "      <th>dialogue</th>\n",
       "      <th>summary</th>\n",
       "      <th>topic</th>\n",
       "    </tr>\n",
       "  </thead>\n",
       "  <tbody>\n",
       "    <tr>\n",
       "      <th>0</th>\n",
       "      <td>train_0</td>\n",
       "      <td>#Person1#: 안녕하세요, 스미스씨. 저는 호킨스 의사입니다. 오늘 왜 오셨나...</td>\n",
       "      <td>스미스씨가 건강검진을 받고 있고, 호킨스 의사는 매년 건강검진을 받는 것을 권장합니...</td>\n",
       "      <td>건강검진 받기</td>\n",
       "    </tr>\n",
       "    <tr>\n",
       "      <th>1</th>\n",
       "      <td>train_1</td>\n",
       "      <td>#Person1#: 안녕하세요, 파커 부인, 어떻게 지내셨나요?\\n#Person2#...</td>\n",
       "      <td>파커 부인이 리키를 데리고 백신 접종을 하러 갔다. 피터스 박사는 기록을 확인한 후...</td>\n",
       "      <td>백신</td>\n",
       "    </tr>\n",
       "    <tr>\n",
       "      <th>2</th>\n",
       "      <td>train_2</td>\n",
       "      <td>#Person1#: 실례합니다, 열쇠 한 묶음 보셨나요?\\n#Person2#: 어떤...</td>\n",
       "      <td>#Person1#은 열쇠 한 묶음을 찾고 있고, 그것을 찾기 위해 #Person2#...</td>\n",
       "      <td>열쇠 찾기</td>\n",
       "    </tr>\n",
       "    <tr>\n",
       "      <th>3</th>\n",
       "      <td>train_3</td>\n",
       "      <td>#Person1#: 왜 너는 여자친구가 있다는 걸 말해주지 않았어?\\n#Person...</td>\n",
       "      <td>#Person1#은 #Person2#가 여자친구가 있고 그녀와 결혼할 것이라는 사실...</td>\n",
       "      <td>여자친구가 있다</td>\n",
       "    </tr>\n",
       "    <tr>\n",
       "      <th>4</th>\n",
       "      <td>train_4</td>\n",
       "      <td>#Person1#: 안녕, 숙녀분들! 오늘 밤 당신들은 정말 멋져 보여. 이 춤을 ...</td>\n",
       "      <td>말릭이 니키에게 춤을 요청한다. 말릭이 발을 밟는 것을 신경 쓰지 않는다면 니키는 ...</td>\n",
       "      <td>댄스</td>\n",
       "    </tr>\n",
       "  </tbody>\n",
       "</table>\n",
       "</div>"
      ],
      "text/plain": [
       "     fname                                           dialogue  \\\n",
       "0  train_0  #Person1#: 안녕하세요, 스미스씨. 저는 호킨스 의사입니다. 오늘 왜 오셨나...   \n",
       "1  train_1  #Person1#: 안녕하세요, 파커 부인, 어떻게 지내셨나요?\\n#Person2#...   \n",
       "2  train_2  #Person1#: 실례합니다, 열쇠 한 묶음 보셨나요?\\n#Person2#: 어떤...   \n",
       "3  train_3  #Person1#: 왜 너는 여자친구가 있다는 걸 말해주지 않았어?\\n#Person...   \n",
       "4  train_4  #Person1#: 안녕, 숙녀분들! 오늘 밤 당신들은 정말 멋져 보여. 이 춤을 ...   \n",
       "\n",
       "                                             summary     topic  \n",
       "0  스미스씨가 건강검진을 받고 있고, 호킨스 의사는 매년 건강검진을 받는 것을 권장합니...   건강검진 받기  \n",
       "1  파커 부인이 리키를 데리고 백신 접종을 하러 갔다. 피터스 박사는 기록을 확인한 후...        백신  \n",
       "2  #Person1#은 열쇠 한 묶음을 찾고 있고, 그것을 찾기 위해 #Person2#...     열쇠 찾기  \n",
       "3  #Person1#은 #Person2#가 여자친구가 있고 그녀와 결혼할 것이라는 사실...  여자친구가 있다  \n",
       "4  말릭이 니키에게 춤을 요청한다. 말릭이 발을 밟는 것을 신경 쓰지 않는다면 니키는 ...        댄스  "
      ]
     },
     "execution_count": 9,
     "metadata": {},
     "output_type": "execute_result"
    }
   ],
   "source": [
    "all_df.head()"
   ]
  },
  {
   "cell_type": "code",
   "execution_count": 12,
   "metadata": {},
   "outputs": [],
   "source": [
    "co_df = pd.read_csv(\"/root/NLP/data/dt_train.csv/(co)backtranslated_20241127_091942.csv\")"
   ]
  },
  {
   "cell_type": "code",
   "execution_count": 14,
   "metadata": {},
   "outputs": [
    {
     "data": {
      "text/html": [
       "<div>\n",
       "<style scoped>\n",
       "    .dataframe tbody tr th:only-of-type {\n",
       "        vertical-align: middle;\n",
       "    }\n",
       "\n",
       "    .dataframe tbody tr th {\n",
       "        vertical-align: top;\n",
       "    }\n",
       "\n",
       "    .dataframe thead th {\n",
       "        text-align: right;\n",
       "    }\n",
       "</style>\n",
       "<table border=\"1\" class=\"dataframe\">\n",
       "  <thead>\n",
       "    <tr style=\"text-align: right;\">\n",
       "      <th></th>\n",
       "      <th>fname</th>\n",
       "      <th>dialogue</th>\n",
       "      <th>summary</th>\n",
       "      <th>topic</th>\n",
       "    </tr>\n",
       "  </thead>\n",
       "  <tbody>\n",
       "    <tr>\n",
       "      <th>0</th>\n",
       "      <td>train_1000</td>\n",
       "      <td>#Person1#: 거주하시는 도시의 날씨는 어떤가요?\\n#Person2#: 여름에...</td>\n",
       "      <td>#Person2#의 도시에서는 여름에는 덥고 비가 오며, 겨울에는 더 건조하다. 하...</td>\n",
       "      <td>도시 날씨</td>\n",
       "    </tr>\n",
       "    <tr>\n",
       "      <th>1</th>\n",
       "      <td>train_1001</td>\n",
       "      <td>#Person1#: 안녕하세요, 무엇을 도와드릴까요?\\n#Person2#: 미국식 ...</td>\n",
       "      <td>#Person1#은 #Person2#가 햇볕에 익힌 계란과 브렉퍼스트 주스, 진한 ...</td>\n",
       "      <td>음식 주문</td>\n",
       "    </tr>\n",
       "    <tr>\n",
       "      <th>2</th>\n",
       "      <td>train_1002</td>\n",
       "      <td>#Person1#: 분명 후회하지 않으실 거라고 확신하며, 그보다 더 좋은 사람은 ...</td>\n",
       "      <td>#Person1#은 #Person2#가 그 여자를 선택하지 않으면 후회할 것이라고 ...</td>\n",
       "      <td>후회</td>\n",
       "    </tr>\n",
       "    <tr>\n",
       "      <th>3</th>\n",
       "      <td>train_1003</td>\n",
       "      <td>#Person1#: 실례합니다만, 저 좀 도와주시겠어요?\\n#Person2#: 예....</td>\n",
       "      <td>#Person1#은 #Person2#에게 꽃 전시회에 대해 물어본다. #Person...</td>\n",
       "      <td>꽃 전시회</td>\n",
       "    </tr>\n",
       "    <tr>\n",
       "      <th>4</th>\n",
       "      <td>train_1004</td>\n",
       "      <td>#Person1#: 분실물 센터에 있습니다. 어떻게 도와드릴까요?\\n#Person2...</td>\n",
       "      <td>#Person2#의 가방이 어제 분실되었다. #Person2#가 제공한 정보를 바탕...</td>\n",
       "      <td>분실물 찾기</td>\n",
       "    </tr>\n",
       "  </tbody>\n",
       "</table>\n",
       "</div>"
      ],
      "text/plain": [
       "        fname                                           dialogue  \\\n",
       "0  train_1000  #Person1#: 거주하시는 도시의 날씨는 어떤가요?\\n#Person2#: 여름에...   \n",
       "1  train_1001  #Person1#: 안녕하세요, 무엇을 도와드릴까요?\\n#Person2#: 미국식 ...   \n",
       "2  train_1002  #Person1#: 분명 후회하지 않으실 거라고 확신하며, 그보다 더 좋은 사람은 ...   \n",
       "3  train_1003  #Person1#: 실례합니다만, 저 좀 도와주시겠어요?\\n#Person2#: 예....   \n",
       "4  train_1004  #Person1#: 분실물 센터에 있습니다. 어떻게 도와드릴까요?\\n#Person2...   \n",
       "\n",
       "                                             summary   topic  \n",
       "0  #Person2#의 도시에서는 여름에는 덥고 비가 오며, 겨울에는 더 건조하다. 하...   도시 날씨  \n",
       "1  #Person1#은 #Person2#가 햇볕에 익힌 계란과 브렉퍼스트 주스, 진한 ...   음식 주문  \n",
       "2  #Person1#은 #Person2#가 그 여자를 선택하지 않으면 후회할 것이라고 ...      후회  \n",
       "3  #Person1#은 #Person2#에게 꽃 전시회에 대해 물어본다. #Person...   꽃 전시회  \n",
       "4  #Person2#의 가방이 어제 분실되었다. #Person2#가 제공한 정보를 바탕...  분실물 찾기  "
      ]
     },
     "execution_count": 14,
     "metadata": {},
     "output_type": "execute_result"
    }
   ],
   "source": [
    "co_df.head()"
   ]
  },
  {
   "cell_type": "code",
   "execution_count": 15,
   "metadata": {},
   "outputs": [],
   "source": [
    "all_co_df = pd.concat([all_df, co_df])"
   ]
  },
  {
   "cell_type": "code",
   "execution_count": 16,
   "metadata": {},
   "outputs": [
    {
     "name": "stdout",
     "output_type": "stream",
     "text": [
      "CSV 파일이 성공적으로 저장되었습니다.\n"
     ]
    }
   ],
   "source": [
    "#인덱스 리셋\n",
    "all_co_df.reset_index(drop=True, inplace=True)\n",
    "\n",
    "# fname 열을 'train_0', 'train_1', ... 으로 변환\n",
    "all_co_df['fname'] = [f\"train_{i}\" for i in range(len(all_co_df))]\n",
    "\n",
    "# 중복 제거 데이터 저장 (원하는 경로로 변경)\n",
    "output_path = \"/root/NLP/data/dt1_train.csv\"\n",
    "all_co_df.to_csv(output_path, index=False)\n",
    "\n",
    "print(\"CSV 파일이 성공적으로 저장되었습니다.\")"
   ]
  }
 ],
 "metadata": {
  "kernelspec": {
   "display_name": "base",
   "language": "python",
   "name": "python3"
  },
  "language_info": {
   "codemirror_mode": {
    "name": "ipython",
    "version": 3
   },
   "file_extension": ".py",
   "mimetype": "text/x-python",
   "name": "python",
   "nbconvert_exporter": "python",
   "pygments_lexer": "ipython3",
   "version": "3.10.13"
  }
 },
 "nbformat": 4,
 "nbformat_minor": 2
}
