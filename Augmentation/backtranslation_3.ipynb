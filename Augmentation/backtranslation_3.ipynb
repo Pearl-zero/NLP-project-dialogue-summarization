{
 "cells": [
  {
   "cell_type": "code",
   "execution_count": 2,
   "metadata": {},
   "outputs": [],
   "source": [
    "import random\n",
    "import pandas as pd\n",
    "from tqdm import tqdm\n",
    "from konlpy.tag import Mecab\n",
    "from googletrans import Translator"
   ]
  },
  {
   "cell_type": "code",
   "execution_count": 5,
   "metadata": {},
   "outputs": [],
   "source": [
    "# Back Translation Function\n",
    "def back_translation(text):\n",
    "    \"\"\"\n",
    "    Perform back translation (Korean → English → Korean) for text augmentation.\n",
    "    \"\"\"\n",
    "    translator = Translator()\n",
    "    try:\n",
    "        translated = translator.translate(text, src='ko', dest='en').text\n",
    "        return translator.translate(translated, src='en', dest='ko').text\n",
    "    except Exception as e:\n",
    "        print(f\"Back translation error: {e}\")\n",
    "        return text  # Fallback to original text if error occurs\n",
    "\n",
    "# Random Deletion\n",
    "def random_deletion(sentence, p=0.1):\n",
    "    words = sentence.split()\n",
    "    if len(words) == 1:\n",
    "        return sentence\n",
    "    return ' '.join([word for word in words if random.uniform(0, 1) > p])\n",
    "\n",
    "# Random Word Swap\n",
    "def random_swap(sentence, n=1):\n",
    "    words = sentence.split()\n",
    "    for _ in range(n):\n",
    "        if len(words) > 1:\n",
    "            idx1, idx2 = random.sample(range(len(words)), 2)\n",
    "            words[idx1], words[idx2] = words[idx2], words[idx1]\n",
    "    return ' '.join(words)\n",
    "\n",
    "# Random Insertion\n",
    "def random_insertion(sentence, n=1):\n",
    "    words = sentence.split()\n",
    "    for _ in range(n):\n",
    "        idx = random.randint(0, len(words) - 1)\n",
    "        words.insert(idx, words[idx])\n",
    "    return ' '.join(words)\n",
    "\n",
    "# AEDA (Punctuation Insertion)\n",
    "def aeda_augmentation(sentence, num_punct=1):\n",
    "    punctuations = ['.', ',', '!', '?', ';']\n",
    "    words = sentence.split()\n",
    "    for _ in range(num_punct):\n",
    "        idx = random.randint(0, len(words))\n",
    "        punct = random.choice(punctuations)\n",
    "        words.insert(idx, punct)\n",
    "    return ' '.join(words)\n",
    "\n",
    "# Augmentation Function\n",
    "def augment_text_data(text_col, repetition=1):\n",
    "    \"\"\"\n",
    "    Apply text augmentations (EDA, AEDA, Back-Translation) for each input text.\n",
    "    \n",
    "    Ensures output length matches input length by selecting only one augmented version per text.\n",
    "    \"\"\"\n",
    "    augmented_data = []\n",
    "    for text in tqdm(text_col, desc=\"Augmenting Text\"):\n",
    "        # Store augmented versions\n",
    "        augmented_versions = []\n",
    "        \n",
    "        for _ in range(repetition):\n",
    "            try:\n",
    "                eda_augmented = random_deletion(text, p=0.1)\n",
    "                eda_augmented = random_swap(eda_augmented, n=1)\n",
    "                eda_augmented = random_insertion(eda_augmented, n=1)\n",
    "\n",
    "                aeda_augmented = aeda_augmentation(text, num_punct=1)\n",
    "                back_translated = back_translation(text)\n",
    "\n",
    "                # Collect augmented versions\n",
    "                augmented_versions.extend([eda_augmented, aeda_augmented, back_translated])\n",
    "            except Exception as e:\n",
    "                print(f\"Augmentation error: {e}\")\n",
    "                augmented_versions.append(text)  # Fallback to original text\n",
    "        \n",
    "        # Select one augmented version (e.g., the first) to maintain alignment\n",
    "        augmented_data.append(augmented_versions[0])\n",
    "    \n",
    "    return augmented_data\n"
   ]
  },
  {
   "cell_type": "code",
   "execution_count": 6,
   "metadata": {},
   "outputs": [
    {
     "name": "stderr",
     "output_type": "stream",
     "text": [
      "Augmenting Text: 100%|██████████| 2500/2500 [21:03<00:00,  1.98it/s]"
     ]
    },
    {
     "name": "stdout",
     "output_type": "stream",
     "text": [
      "Data augmentation complete!\n"
     ]
    },
    {
     "name": "stderr",
     "output_type": "stream",
     "text": [
      "\n"
     ]
    }
   ],
   "source": [
    "# Load Data\n",
    "train_data = pd.read_csv('/root/NLP/data/train.csv')\n",
    "\n",
    "# Sample Data for Augmentation\n",
    "train_sample = train_data.sample(n=2500, random_state=42) if len(train_data) > 2500 else train_data\n",
    "\n",
    "# Apply Augmentation\n",
    "train_sample['augmented'] = augment_text_data(train_sample['dialogue'], repetition=1)\n",
    "\n",
    "# Save Augmented Data\n",
    "train_sample.to_csv(\"/root/NLP/data/augmented_train.csv\", index=False)\n",
    "print(\"Data augmentation complete!\")\n"
   ]
  },
  {
   "cell_type": "code",
   "execution_count": 8,
   "metadata": {},
   "outputs": [
    {
     "name": "stdout",
     "output_type": "stream",
     "text": [
      "Dataset size: (2500, 5)\n"
     ]
    }
   ],
   "source": [
    "import pandas as pd\n",
    "\n",
    "# Load the augmented dataset\n",
    "augmented_data = pd.read_csv('/root/NLP/data/augmented_train.csv')\n",
    "\n",
    "# Check the size of the dataset (number of rows and columns)\n",
    "print(f\"Dataset size: {augmented_data.shape}\")"
   ]
  },
  {
   "cell_type": "code",
   "execution_count": 9,
   "metadata": {},
   "outputs": [
    {
     "name": "stdout",
     "output_type": "stream",
     "text": [
      "         fname                                           dialogue  \\\n",
      "0    train_396  #Person1#: 안녕하세요, 잭 있나요?\\n#Person2#: 저입니다.\\n#P...   \n",
      "1    train_247  #Person1#: 실례합니다. 면접에 가려면 어떤 옷을 입어야 하나요?\\n#Per...   \n",
      "2   train_9260  #Person1#: 존, 당신의 동기에 대해 몇 가지 질문을 하고 싶습니다. 당신이...   \n",
      "3   train_1430  #Person1#: 실례합니다만, 베를린행 비행기가 언제 출발하는지 알려주시겠어요?...   \n",
      "4  train_10328  #Person1#: 주, 이 코트 어때?\\n#Person2#: 이런, 조지. 이 색...   \n",
      "\n",
      "                                             summary     topic  \\\n",
      "0                 로즈가 잭에게 전화를 걸어 이번 토요일 저녁 식사에 초대한다.  저녁 식사 초대   \n",
      "1  #Person2#는 #Person1#에게 정장에 넥타이를 착용하고 면접에서 최선을 ...        면접   \n",
      "2  존은 #Person1#에게 그의 동기, 그의 경영 스타일, 그리고 그의 사업과 개인...       인터뷰   \n",
      "3  #Person1#은 다음 베를린행 비행기 티켓을 구매하려 한다. #Person2#은...    비행기 정보   \n",
      "4  조지는 주가 코트를 고르는 것을 도와주고 있다. 그들은 점원에게 더 큰 사이즈를 물...        코트   \n",
      "\n",
      "                                           augmented  \n",
      "0  #Person1#: 있나요? 잭 안녕하세요, #Person2#: 저입니다. 저 로즈...  \n",
      "1  어떤 면접에 가려면 #Person1#: 옷을 입어야 하나요? #Person2#: 정...  \n",
      "2  존, 당신의 동기에 몇 가지 질문을 하고 싶습니다. 당신이 사람들과 함께 사업을 발...  \n",
      "3  #Person1#: 실례합니다만, 베를린행 비행기가 언제 출발하는지 알려주시겠어요?...  \n",
      "4  #Person1#: 주, 이 코트 어때? #Person2#: 이런, 조지. 이 색깔...  \n",
      "Number of rows (sentences): 2500\n",
      "Number of columns: 5\n"
     ]
    }
   ],
   "source": [
    "# Preview the first few rows to see the data content\n",
    "print(augmented_data.head())\n",
    "\n",
    "# Check dataset size\n",
    "num_rows, num_columns = augmented_data.shape\n",
    "print(f\"Number of rows (sentences): {num_rows}\")\n",
    "print(f\"Number of columns: {num_columns}\")"
   ]
  },
  {
   "cell_type": "code",
   "execution_count": null,
   "metadata": {},
   "outputs": [],
   "source": []
  }
 ],
 "metadata": {
  "kernelspec": {
   "display_name": "base",
   "language": "python",
   "name": "python3"
  },
  "language_info": {
   "codemirror_mode": {
    "name": "ipython",
    "version": 3
   },
   "file_extension": ".py",
   "mimetype": "text/x-python",
   "name": "python",
   "nbconvert_exporter": "python",
   "pygments_lexer": "ipython3",
   "version": "3.10.13"
  }
 },
 "nbformat": 4,
 "nbformat_minor": 2
}
